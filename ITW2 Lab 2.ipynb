{
 "cells": [
  {
   "cell_type": "code",
   "execution_count": 3,
   "metadata": {},
   "outputs": [
    {
     "name": "stdout",
     "output_type": "stream",
     "text": [
      "Current Letter : p\n",
      "Current Letter : y\n",
      "Current Letter : t\n",
      "Out of For\n"
     ]
    }
   ],
   "source": [
    "#Break Statement USage\n",
    "for letter in 'python':\n",
    "    if letter =='h':\n",
    "            break\n",
    "    print('Current Letter :' , letter)\n",
    "print('Out of For')"
   ]
  },
  {
   "cell_type": "code",
   "execution_count": 2,
   "metadata": {
    "scrolled": true
   },
   "outputs": [
    {
     "name": "stdout",
     "output_type": "stream",
     "text": [
      "Current Letter : D\n",
      "Current Letter : j\n",
      "Current Letter : n\n",
      "Current Letter : g\n",
      "Current Letter : o\n"
     ]
    }
   ],
   "source": [
    "\n",
    "for letter in 'Django':\n",
    "    if letter =='a':\n",
    "        continue\n",
    "    print('Current Letter :',letter)\n"
   ]
  },
  {
   "cell_type": "code",
   "execution_count": null,
   "metadata": {},
   "outputs": [],
   "source": [
    "#Q1.WAP to check if given charc"
   ]
  }
 ],
 "metadata": {
  "kernelspec": {
   "display_name": "Python 3",
   "language": "python",
   "name": "python3"
  },
  "language_info": {
   "codemirror_mode": {
    "name": "ipython",
    "version": 3
   },
   "file_extension": ".py",
   "mimetype": "text/x-python",
   "name": "python",
   "nbconvert_exporter": "python",
   "pygments_lexer": "ipython3",
   "version": "3.7.1"
  }
 },
 "nbformat": 4,
 "nbformat_minor": 2
}
