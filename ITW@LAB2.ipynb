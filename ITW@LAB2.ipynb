{
 "cells": [
  {
   "cell_type": "code",
   "execution_count": 7,
   "metadata": {},
   "outputs": [
    {
     "name": "stdout",
     "output_type": "stream",
     "text": [
      "Enter any charcter u\n",
      "The entered Character is a vowel\n"
     ]
    }
   ],
   "source": [
    "#Q1.WAP to check if given charcter is a vowel or not\n",
    "ch=input(\"Enter any charcter \")\n",
    "if(ch=='a'or ch=='e' or ch=='i'or ch=='o' or ch=='u'or ch=='A'or ch=='E' or ch=='I'or ch=='O' or ch=='U'):\n",
    "    print(\"The entered Character is a vowel\")\n",
    "else:\n",
    "    print(\"The entered Character is not a vowel\")\n",
    "        "
   ]
  },
  {
   "cell_type": "code",
   "execution_count": 11,
   "metadata": {},
   "outputs": [
    {
     "name": "stdout",
     "output_type": "stream",
     "text": [
      "Enter any number 6\n"
     ]
    }
   ],
   "source": [
    "#Q2.WAP to check if number is less than 5 and if yes print its square\n",
    "num=input(\"Enter any number \")\n",
    "Num=int(num)\n",
    "if(Num<5):\n",
    "    print(Num**2)\n",
    "    "
   ]
  },
  {
   "cell_type": "code",
   "execution_count": 14,
   "metadata": {},
   "outputs": [
    {
     "name": "stdout",
     "output_type": "stream",
     "text": [
      "Enter a number 34\n",
      "The number is not divisible by 10\n"
     ]
    }
   ],
   "source": [
    "#Q3.WAP to check if number is divisible by ten\n",
    "num=input(\"Enter a number \")\n",
    "Num=int(num)\n",
    "if(Num %10 ==0):\n",
    "    print(\"The Number is Divisible by 10\")\n",
    "else:\n",
    "    print(\"The number is not divisible by 10\")\n"
   ]
  },
  {
   "cell_type": "code",
   "execution_count": 16,
   "metadata": {},
   "outputs": [
    {
     "name": "stdout",
     "output_type": "stream",
     "text": [
      "Enter any Alphabetical Charctera\n",
      "A lowercase Character has been entered\n"
     ]
    }
   ],
   "source": [
    "#Q4.Wap to check if the given character is upper case or lower case.\n",
    "char=input(\"Enter any Alphabetical Charcter \")\n",
    "if(char.islower()==1):\n",
    "    print(\"A lowercase Character has been entered\")\n",
    "else:\n",
    "    print(\"An Uppercase Character has been entered\")"
   ]
  },
  {
   "cell_type": "code",
   "execution_count": 18,
   "metadata": {},
   "outputs": [
    {
     "name": "stdout",
     "output_type": "stream",
     "text": [
      "Enter a character 8906566\n",
      "The Entered Character is A Number\n"
     ]
    }
   ],
   "source": [
    "#Q5.WAP to check if the given character is digit or not\n",
    "char=input(\"Enter a character \")\n",
    "if(char.isdigit()==1):\n",
    "    print(\"The Entered Character is A Number\")\n",
    "else:\n",
    "    print(\"The Entered Character is not A Number\")"
   ]
  },
  {
   "cell_type": "code",
   "execution_count": 3,
   "metadata": {},
   "outputs": [
    {
     "name": "stdout",
     "output_type": "stream",
     "text": [
      "Enter the Numbers \n",
      "2\n",
      "5\n",
      "1\n",
      "7\n",
      "The Greatest Number Of all is  7\n"
     ]
    }
   ],
   "source": [
    "#Q6.WAP to print greatest number between four numbers\n",
    "print(\"Enter the Numbers \")\n",
    "num1=input()\n",
    "num2=input()\n",
    "num3=input()\n",
    "num4=input()\n",
    "N1=int(num1)\n",
    "N2=int(num2)\n",
    "N3=int(num3)\n",
    "N4=int(num4)\n",
    "m1=0\n",
    "m2=0\n",
    "if(N1>N2):\n",
    "    m1=N1\n",
    "else:\n",
    "    m1=N2\n",
    "if(N3>N4):\n",
    "    m2=N3\n",
    "else:\n",
    "    m2=N4\n",
    "if(m1>m2):\n",
    "    print(\"The Greatest Number Of all is \", m1)\n",
    "else:\n",
    "    print(\"The Greatest Number Of all is \", m2)"
   ]
  },
  {
   "cell_type": "code",
   "execution_count": 10,
   "metadata": {},
   "outputs": [
    {
     "name": "stdout",
     "output_type": "stream",
     "text": [
      "Enter a number3456\n",
      "The number of Digits in the number is  4\n"
     ]
    }
   ],
   "source": [
    "#LOOP STATEMENTS\n",
    "#Q1.WAP to count number of digits in any number\n",
    "num=int(input(\"Enter a number\"))\n",
    "count=0\n",
    "while(num>0):\n",
    "    num=int(num/10)\n",
    "    count=count+1\n",
    "print(\"The number of Digits in the number is \" , count)\n",
    "\n"
   ]
  },
  {
   "cell_type": "code",
   "execution_count": 13,
   "metadata": {},
   "outputs": [
    {
     "name": "stdout",
     "output_type": "stream",
     "text": [
      "Enter a number567\n",
      "The Sum of The Digits is : 18\n",
      "The product of the Digits is : 210\n"
     ]
    }
   ],
   "source": [
    "#Q2.WAP to print sum and product of digits in  any number\n",
    "c=0\n",
    "num=int(input(\"Enter a number\"))\n",
    "Num=num\n",
    "while(num>0):\n",
    "    c+=num%10\n",
    "    num=int(num/10)\n",
    "print(\"The Sum of The Digits is :\", c)\n",
    "c=1\n",
    "while(Num>0):\n",
    "    c*=Num%10\n",
    "    Num=int(Num/10)\n",
    "print(\"The product of the Digits is :\", c)\n",
    "    "
   ]
  },
  {
   "cell_type": "code",
   "execution_count": 14,
   "metadata": {},
   "outputs": [
    {
     "name": "stdout",
     "output_type": "stream",
     "text": [
      "Enter the number to reverse234\n",
      "The Reverse is  432\n"
     ]
    }
   ],
   "source": [
    "#Q3.Wap to read a number and print in reverse\n",
    "num=int(input(\"Enter the number to reverse\"))\n",
    "rev_num=0\n",
    "dig=0\n",
    "while(num>0):\n",
    "    dig=num%10\n",
    "    num=int(num/10)\n",
    "    rev_num=rev_num*10 + dig\n",
    "print(\"The Reverse is \",rev_num)\n",
    "    "
   ]
  },
  {
   "cell_type": "code",
   "execution_count": 18,
   "metadata": {},
   "outputs": [
    {
     "name": "stdout",
     "output_type": "stream",
     "text": [
      "Enter a number18\n",
      "The Fibonacci Series  0 1\n",
      "1\n",
      "2\n",
      "3\n",
      "5\n",
      "8\n",
      "13\n"
     ]
    }
   ],
   "source": [
    "#Q4.WAP to print Fibonacci series upto given number.\n",
    "n1=0\n",
    "n2=1\n",
    "n3=n1+n2\n",
    "num=int(input(\"Enter a number\"))\n",
    "print(\"The Fibonacci Series \",n1 ,n2)\n",
    "while(n3<num):\n",
    "    print(n3)\n",
    "    n1=n2\n",
    "    n2=n3\n",
    "    n3=n1+n2\n",
    "    \n"
   ]
  },
  {
   "cell_type": "code",
   "execution_count": 22,
   "metadata": {
    "scrolled": true
   },
   "outputs": [
    {
     "name": "stdout",
     "output_type": "stream",
     "text": [
      "Enter the number26\n",
      "Here Are your Natural Numbers \n",
      "26\n",
      "25\n",
      "24\n",
      "23\n",
      "22\n",
      "21\n",
      "20\n",
      "19\n",
      "18\n",
      "17\n",
      "16\n",
      "15\n",
      "14\n",
      "13\n",
      "12\n",
      "11\n",
      "10\n",
      "9\n",
      "8\n",
      "7\n",
      "6\n",
      "5\n",
      "4\n",
      "3\n",
      "2\n"
     ]
    }
   ],
   "source": [
    "#Q5.WAP to print Natural numbers in reverse starting from given number\n",
    "num=int(input(\"Enter the number\"))\n",
    "print(\"Here Are your Natural Numbers \")\n",
    "for i in range(num,1,-1):\n",
    "    print(i)"
   ]
  },
  {
   "cell_type": "code",
   "execution_count": 24,
   "metadata": {
    "scrolled": false
   },
   "outputs": [
    {
     "name": "stdout",
     "output_type": "stream",
     "text": [
      "Enter a number8\n",
      "8 * 1 = 8\n",
      "8 * 2 = 16\n",
      "8 * 3 = 24\n",
      "8 * 4 = 32\n",
      "8 * 5 = 40\n",
      "8 * 6 = 48\n",
      "8 * 7 = 56\n",
      "8 * 8 = 64\n",
      "8 * 9 = 72\n"
     ]
    }
   ],
   "source": [
    "#Q6.Wap to print MUltiplicatation Table of  a given Number\n",
    "num=int(input(\"Enter a number\"))\n",
    "for i in range(1,10):\n",
    "    print(num,\"*\",i,\"=\",num*i)"
   ]
  },
  {
   "cell_type": "code",
   "execution_count": 26,
   "metadata": {},
   "outputs": [
    {
     "name": "stdout",
     "output_type": "stream",
     "text": [
      "X coordinate of first1\n",
      "Y coordinate of first1\n",
      "X coordinate of second4\n",
      "Y coordinate of second5\n",
      "The distance between two points is  5.0\n"
     ]
    }
   ],
   "source": [
    "#Q7.WAP to compute distance between two points taken from user\n",
    "x1=int(input(\"X coordinate of first\"))\n",
    "y1=int(input(\"Y coordinate of first\"))\n",
    "x2=int(input(\"X coordinate of second\"))\n",
    "y2=int(input(\"Y coordinate of second\"))\n",
    "sum=(x1-x2)**2+(y1-y2)**2\n",
    "distance=sum**0.5\n",
    "print(\"The distance between two points is \",distance)"
   ]
  },
  {
   "cell_type": "code",
   "execution_count": null,
   "metadata": {},
   "outputs": [],
   "source": [
    "#Q8Continue 4 and print the su of even numbers in sequence"
   ]
  },
  {
   "cell_type": "code",
   "execution_count": 28,
   "metadata": {},
   "outputs": [
    {
     "name": "stdout",
     "output_type": "stream",
     "text": [
      "Enter a number153\n",
      "The Number is An Armstrong Number\n"
     ]
    }
   ],
   "source": [
    "#Q9WAP to check if given number id Armstrong\n",
    "num=int(input(\"Enter a number\"))\n",
    "suma=0\n",
    "Num=num\n",
    "while(num>0):\n",
    "    suma=suma+(num%10)**3\n",
    "    num=int(num/10)\n",
    "if(Num==suma):\n",
    "    print(\"The Number is An Armstrong Number\")\n",
    "else:\n",
    "    print(\"The Number is Not ARmstrong\")"
   ]
  },
  {
   "cell_type": "code",
   "execution_count": null,
   "metadata": {},
   "outputs": [],
   "source": [
    "#Q10.WAP to compute factorial of a number"
   ]
  },
  {
   "cell_type": "code",
   "execution_count": null,
   "metadata": {},
   "outputs": [],
   "source": [
    "#Q11.WAP to find a root of root quadratic equation"
   ]
  },
  {
   "cell_type": "code",
   "execution_count": null,
   "metadata": {},
   "outputs": [],
   "source": [
    "#Q12.WAP to find if given number is divisible by 2 or 5 and not 10"
   ]
  },
  {
   "cell_type": "code",
   "execution_count": null,
   "metadata": {},
   "outputs": [],
   "source": [
    "#Q13.WAP to to check if given number is perfect umber"
   ]
  },
  {
   "cell_type": "code",
   "execution_count": null,
   "metadata": {},
   "outputs": [],
   "source": [
    "#Q14.WAP to check if the given triangle is equilateral or not.Input the 3 coordinates of triangle"
   ]
  }
 ],
 "metadata": {
  "kernelspec": {
   "display_name": "Python 3",
   "language": "python",
   "name": "python3"
  },
  "language_info": {
   "codemirror_mode": {
    "name": "ipython",
    "version": 3
   },
   "file_extension": ".py",
   "mimetype": "text/x-python",
   "name": "python",
   "nbconvert_exporter": "python",
   "pygments_lexer": "ipython3",
   "version": "3.7.1"
  }
 },
 "nbformat": 4,
 "nbformat_minor": 2
}
