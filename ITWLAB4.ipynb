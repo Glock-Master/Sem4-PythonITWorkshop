{
 "cells": [
  {
   "cell_type": "markdown",
   "metadata": {},
   "source": [
    "# ITWLAB4\n"
   ]
  },
  {
   "cell_type": "code",
   "execution_count": 1,
   "metadata": {},
   "outputs": [
    {
     "name": "stdout",
     "output_type": "stream",
     "text": [
      "[1, 4, 9, 16]\n"
     ]
    }
   ],
   "source": [
    "#List Comprehension\n",
    "#1st Method\n",
    "numbers=[1,2,3,4]\n",
    "squares=[]\n",
    "for n in numbers:\n",
    "    squares.append(n**2)\n",
    "print(squares)"
   ]
  },
  {
   "cell_type": "code",
   "execution_count": 3,
   "metadata": {
    "scrolled": true
   },
   "outputs": [
    {
     "name": "stdout",
     "output_type": "stream",
     "text": [
      "[1, 4, 9, 16]\n"
     ]
    }
   ],
   "source": [
    "#2nd Method\n",
    "numbers=[1,2,3,4]\n",
    "squares=[n**2 for n in numbers]\n",
    "print(squares)"
   ]
  },
  {
   "cell_type": "code",
   "execution_count": 4,
   "metadata": {},
   "outputs": [
    {
     "name": "stdout",
     "output_type": "stream",
     "text": [
      "[2, 4, 6]\n"
     ]
    }
   ],
   "source": [
    "#Common Members sin two list into a new list\n",
    "l1=[1,2,3,4,5,6]\n",
    "l2=[2,4,6]\n",
    "l3=[a for a in l1 for b in l2 if a==b]\n",
    "print(l3)"
   ]
  },
  {
   "cell_type": "code",
   "execution_count": 6,
   "metadata": {},
   "outputs": [
    {
     "name": "stdout",
     "output_type": "stream",
     "text": [
      "[(1, 2), (1, 3), (1, 4), (2, 3), (2, 4), (3, 2), (3, 4)]\n"
     ]
    }
   ],
   "source": [
    "#Different numbers from two list\n",
    "l1=[1,2,3]\n",
    "l2=[2,3,4]\n",
    "l3=[(a,b) for a in l1 for b in l2 if a!=b]\n",
    "print(l3)"
   ]
  },
  {
   "cell_type": "code",
   "execution_count": 8,
   "metadata": {},
   "outputs": [
    {
     "name": "stdout",
     "output_type": "stream",
     "text": [
      "[3, 4, 5]\n"
     ]
    }
   ],
   "source": [
    "#Using Class Method\n",
    "l1=[1,2,3,4,5]\n",
    "l2=[3,4,5,6,7]\n",
    "l3=[]\n",
    "for i in l1:\n",
    "    if i in l2:\n",
    "        l3.append(i)\n",
    "print(l3)"
   ]
  },
  {
   "cell_type": "code",
   "execution_count": 13,
   "metadata": {},
   "outputs": [
    {
     "name": "stdout",
     "output_type": "stream",
     "text": [
      "i have  4  in the Shopcart\n",
      "The items are : \n",
      "  apple\n",
      "  banana\n",
      "  carrot\n",
      "  mango\n",
      "Also need to buy rice , I suppose\n",
      "My shopcart now consists of :\n",
      "  apple\n",
      "  banana\n",
      "  carrot\n",
      "  mango\n",
      "  rice\n",
      "The Sorted List of the Items in the shopcart is :\n",
      "['apple', 'banana', 'carrot', 'mango', 'rice']\n",
      "The First item is : apple\n"
     ]
    }
   ],
   "source": [
    "shopcart=['apple', 'banana', 'carrot', 'mango']\n",
    "print('i have ', len(shopcart), ' in the Shopcart')\n",
    "print(\"The items are : \")\n",
    "for i in shopcart:\n",
    "    print(\" \",i)\n",
    "print('Also need to buy rice , I suppose')\n",
    "shopcart.append('rice')\n",
    "print(\"My shopcart now consists of :\")\n",
    "for i in shopcart:\n",
    "    print(' ',i)\n",
    "shopcart.sort()\n",
    "print('The Sorted List of the Items in the shopcart is :')\n",
    "print(shopcart)\n",
    "print('The First item is :',shopcart[0])"
   ]
  },
  {
   "cell_type": "code",
   "execution_count": 20,
   "metadata": {},
   "outputs": [
    {
     "name": "stdout",
     "output_type": "stream",
     "text": [
      "Enter the number for the list 3\n",
      "Want to enter more 1.Yes   0.N0 1\n",
      "Enter the number for the list 4\n",
      "Want to enter more 1.Yes   0.N0 1\n",
      "Enter the number for the list 6\n",
      "Want to enter more 1.Yes   0.N0 1\n",
      "Enter the number for the list 2\n",
      "Want to enter more 1.Yes   0.N0 1\n",
      "Enter the number for the list 3\n",
      "Want to enter more 1.Yes   0.N0 1\n",
      "Enter the number for the list 1\n",
      "Want to enter more 1.Yes   0.N0 1\n",
      "Enter the number for the list 1\n",
      "Want to enter more 1.Yes   0.N0 4\n",
      "Enter the number for the list 2\n",
      "Want to enter more 1.Yes   0.N0 0\n",
      "[3, 4, 6, 2, 3, 1, 1, 2]\n",
      "[4, 6, 2, 2]\n",
      "[3, 3, 1, 1]\n"
     ]
    }
   ],
   "source": [
    "#WAP to sseparate the elements of a list into two lists of even and odds\n",
    "l1=[]\n",
    "even=[]\n",
    "odd=[]\n",
    "choice=1\n",
    "while(choice!=0):\n",
    "    n=int(input(\"Enter the number for the list \"))\n",
    "    l1.append(n)\n",
    "    choice=int(input('Want to enter more 1.Yes   0.N0 '))\n",
    "even=[a for a in l1 if(a%2==0)]\n",
    "odd=[a for a in l1 if(a%2==1)]\n",
    "print(l1)\n",
    "print(even)\n",
    "print(odd)"
   ]
  },
  {
   "cell_type": "code",
   "execution_count": 22,
   "metadata": {},
   "outputs": [
    {
     "name": "stdout",
     "output_type": "stream",
     "text": [
      "Enter your choice 1.Push 2.Pop 3.Display 4.Exit 5.Empty1\n",
      "Enter the number to push2\n",
      "Enter your choice Again 1.Push 2.Pop 3. Display 4.Exit 5.Empty1\n",
      "Enter the number to push3\n",
      "Enter your choice Again 1.Push 2.Pop 3. Display 4.Exit 5.Empty1\n",
      "Enter the number to push4\n",
      "Enter your choice Again 1.Push 2.Pop 3. Display 4.Exit 5.Empty1\n",
      "Enter the number to push6\n",
      "Enter your choice Again 1.Push 2.Pop 3. Display 4.Exit 5.Empty1\n",
      "Enter the number to push2\n",
      "Enter your choice Again 1.Push 2.Pop 3. Display 4.Exit 5.Empty1\n",
      "Enter the number to push90\n",
      "Enter your choice Again 1.Push 2.Pop 3. Display 4.Exit 5.Empty3\n",
      "[2, 3, 4, 6, 2, 90]\n",
      "Enter your choice Again 1.Push 2.Pop 3. Display 4.Exit 5.Empty2\n",
      "Enter your choice Again 1.Push 2.Pop 3. Display 4.Exit 5.Empty2\n",
      "Enter your choice Again 1.Push 2.Pop 3. Display 4.Exit 5.Empty2\n",
      "Enter your choice Again 1.Push 2.Pop 3. Display 4.Exit 5.Empty2\n",
      "Enter your choice Again 1.Push 2.Pop 3. Display 4.Exit 5.Empty2\n",
      "Enter your choice Again 1.Push 2.Pop 3. Display 4.Exit 5.Empty2\n",
      "Enter your choice Again 1.Push 2.Pop 3. Display 4.Exit 5.Empty3\n",
      "[]\n",
      "Enter your choice Again 1.Push 2.Pop 3. Display 4.Exit 5.Empty2\n"
     ]
    },
    {
     "ename": "IndexError",
     "evalue": "pop from empty list",
     "output_type": "error",
     "traceback": [
      "\u001b[1;31m---------------------------------------------------------------------------\u001b[0m",
      "\u001b[1;31mIndexError\u001b[0m                                Traceback (most recent call last)",
      "\u001b[1;32m<ipython-input-22-8651daf3f3e1>\u001b[0m in \u001b[0;36m<module>\u001b[1;34m\u001b[0m\n\u001b[0;32m      9\u001b[0m     \u001b[1;32melif\u001b[0m\u001b[1;33m(\u001b[0m\u001b[0mchoice\u001b[0m\u001b[1;33m==\u001b[0m\u001b[1;36m2\u001b[0m\u001b[1;33m)\u001b[0m\u001b[1;33m:\u001b[0m\u001b[1;33m\u001b[0m\u001b[1;33m\u001b[0m\u001b[0m\n\u001b[0;32m     10\u001b[0m         \u001b[1;32mif\u001b[0m\u001b[1;33m(\u001b[0m\u001b[0mn\u001b[0m\u001b[1;33m!=\u001b[0m\u001b[1;36m0\u001b[0m\u001b[1;33m)\u001b[0m\u001b[1;33m:\u001b[0m\u001b[1;33m\u001b[0m\u001b[1;33m\u001b[0m\u001b[0m\n\u001b[1;32m---> 11\u001b[1;33m             \u001b[0ml1\u001b[0m\u001b[1;33m.\u001b[0m\u001b[0mpop\u001b[0m\u001b[1;33m(\u001b[0m\u001b[1;33m)\u001b[0m\u001b[1;33m\u001b[0m\u001b[1;33m\u001b[0m\u001b[0m\n\u001b[0m\u001b[0;32m     12\u001b[0m             \u001b[0mn\u001b[0m\u001b[1;33m=\u001b[0m\u001b[0mn\u001b[0m\u001b[1;33m-\u001b[0m\u001b[1;36m1\u001b[0m\u001b[1;33m\u001b[0m\u001b[1;33m\u001b[0m\u001b[0m\n\u001b[0;32m     13\u001b[0m     \u001b[1;32melif\u001b[0m\u001b[1;33m(\u001b[0m\u001b[0mchoice\u001b[0m\u001b[1;33m==\u001b[0m\u001b[1;36m3\u001b[0m\u001b[1;33m)\u001b[0m\u001b[1;33m:\u001b[0m\u001b[1;33m\u001b[0m\u001b[1;33m\u001b[0m\u001b[0m\n",
      "\u001b[1;31mIndexError\u001b[0m: pop from empty list"
     ]
    }
   ],
   "source": [
    "stack=[]\n",
    "n=0\n",
    "choice=int(input(\"Enter your choice 1.Push 2.Pop 3.Display 4.Exit 5.Empty\"))\n",
    "while(choice!=4):\n",
    "    if(choice==1):\n",
    "        n=int(input(\"Enter the number to push\"))\n",
    "        stack.append(n)\n",
    "    elif(choice==2):\n",
    "        stack.pop()\n",
    "    elif(choice==3):\n",
    "        print(stack)\n",
    "    choice=int(input(\"Enter your choice Again 1.Push 2.Pop 3. Display 4.Exit 5.Empty\"))"
   ]
  },
  {
   "cell_type": "markdown",
   "metadata": {},
   "source": [
    "# Tuple"
   ]
  },
  {
   "cell_type": "code",
   "execution_count": 24,
   "metadata": {},
   "outputs": [
    {
     "name": "stdout",
     "output_type": "stream",
     "text": [
      "(1, 2, 3, 4)\n",
      "<class 'tuple'>\n"
     ]
    }
   ],
   "source": [
    "#TupleCreation\n",
    "x1=(1,2,3,4)\n",
    "print(x1)\n",
    "print(type(x1))"
   ]
  },
  {
   "cell_type": "code",
   "execution_count": 25,
   "metadata": {},
   "outputs": [
    {
     "name": "stdout",
     "output_type": "stream",
     "text": [
      "(5, 4, 6, 3, 2)\n",
      "<class 'tuple'>\n"
     ]
    }
   ],
   "source": [
    "t2=5,4,6,3,2\n",
    "print(t2)\n",
    "print(type(t2))"
   ]
  },
  {
   "cell_type": "code",
   "execution_count": 26,
   "metadata": {},
   "outputs": [
    {
     "name": "stdout",
     "output_type": "stream",
     "text": [
      "(9,)\n",
      "<class 'tuple'>\n"
     ]
    }
   ],
   "source": [
    "t1=(9,)\n",
    "print(t1)\n",
    "print(type(t1))"
   ]
  },
  {
   "cell_type": "code",
   "execution_count": 27,
   "metadata": {},
   "outputs": [
    {
     "name": "stdout",
     "output_type": "stream",
     "text": [
      "1\n",
      "<class 'int'>\n"
     ]
    }
   ],
   "source": [
    "t2=(1)\n",
    "print(t2)\n",
    "print(type(t2))"
   ]
  },
  {
   "cell_type": "code",
   "execution_count": 28,
   "metadata": {},
   "outputs": [
    {
     "name": "stdout",
     "output_type": "stream",
     "text": [
      "(1, 2, 3, 4, 5)\n"
     ]
    },
    {
     "ename": "TypeError",
     "evalue": "'tuple' object does not support item assignment",
     "output_type": "error",
     "traceback": [
      "\u001b[1;31m---------------------------------------------------------------------------\u001b[0m",
      "\u001b[1;31mTypeError\u001b[0m                                 Traceback (most recent call last)",
      "\u001b[1;32m<ipython-input-28-976910e36b74>\u001b[0m in \u001b[0;36m<module>\u001b[1;34m\u001b[0m\n\u001b[0;32m      2\u001b[0m \u001b[0mt1\u001b[0m\u001b[1;33m=\u001b[0m\u001b[1;33m(\u001b[0m\u001b[1;36m1\u001b[0m\u001b[1;33m,\u001b[0m\u001b[1;36m2\u001b[0m\u001b[1;33m,\u001b[0m\u001b[1;36m3\u001b[0m\u001b[1;33m,\u001b[0m\u001b[1;36m4\u001b[0m\u001b[1;33m,\u001b[0m\u001b[1;36m5\u001b[0m\u001b[1;33m)\u001b[0m\u001b[1;33m\u001b[0m\u001b[1;33m\u001b[0m\u001b[0m\n\u001b[0;32m      3\u001b[0m \u001b[0mprint\u001b[0m\u001b[1;33m(\u001b[0m\u001b[0mt1\u001b[0m\u001b[1;33m)\u001b[0m\u001b[1;33m\u001b[0m\u001b[1;33m\u001b[0m\u001b[0m\n\u001b[1;32m----> 4\u001b[1;33m \u001b[0mt1\u001b[0m\u001b[1;33m[\u001b[0m\u001b[1;36m2\u001b[0m\u001b[1;33m]\u001b[0m\u001b[1;33m=\u001b[0m\u001b[1;36m3\u001b[0m\u001b[1;33m\u001b[0m\u001b[1;33m\u001b[0m\u001b[0m\n\u001b[0m",
      "\u001b[1;31mTypeError\u001b[0m: 'tuple' object does not support item assignment"
     ]
    }
   ],
   "source": [
    "#Immutability\n",
    "t1=(1,2,3,4,5)\n",
    "print(t1)\n",
    "t1[2]=3\n"
   ]
  },
  {
   "cell_type": "code",
   "execution_count": 29,
   "metadata": {},
   "outputs": [
    {
     "name": "stdout",
     "output_type": "stream",
     "text": [
      "2\n",
      "5\n",
      "(2, 8, 3)\n",
      "(2, 3)\n",
      "(4, 5)\n",
      "(2, 8, 3, 5)\n"
     ]
    }
   ],
   "source": [
    "t1=(4,5,2,8,3,5)\n",
    "print(t1[2])\n",
    "print(t1[-1])\n",
    "print(t1[2:5])\n",
    "print(t1[2:5:2])\n",
    "print(t1[:2])\n",
    "print(t1[2:])"
   ]
  },
  {
   "cell_type": "code",
   "execution_count": 30,
   "metadata": {},
   "outputs": [
    {
     "name": "stdout",
     "output_type": "stream",
     "text": [
      "[2, 'f', 4, 'G', (2, 9)]\n",
      "2 f 4 G (2, 9)\n",
      "2 9\n"
     ]
    }
   ],
   "source": [
    "#Tuple Unpacking\n",
    "T1=[2,'f',4,'G',(2,9)]\n",
    "print(T1)\n",
    "\n",
    "i1,i2,i3,i4,i5=T1\n",
    "print(i1,i2,i3,i4,i5)\n",
    "(i6,i7)=i5\n",
    "print(i6,i7)"
   ]
  },
  {
   "cell_type": "code",
   "execution_count": 31,
   "metadata": {},
   "outputs": [
    {
     "name": "stdout",
     "output_type": "stream",
     "text": [
      "2 3\n",
      "4 5\n",
      "6 7\n",
      "8 9\n"
     ]
    }
   ],
   "source": [
    "T1=[(2,3),(4,5),(6,7),(8,9)]#List of Tuples\n",
    "for x,y in T1:\n",
    "    print(x,y)"
   ]
  },
  {
   "cell_type": "code",
   "execution_count": 32,
   "metadata": {},
   "outputs": [
    {
     "ename": "TypeError",
     "evalue": "cannot unpack non-iterable int object",
     "output_type": "error",
     "traceback": [
      "\u001b[1;31m---------------------------------------------------------------------------\u001b[0m",
      "\u001b[1;31mTypeError\u001b[0m                                 Traceback (most recent call last)",
      "\u001b[1;32m<ipython-input-32-e3f4a1bc6b52>\u001b[0m in \u001b[0;36m<module>\u001b[1;34m\u001b[0m\n\u001b[1;32m----> 1\u001b[1;33m \u001b[1;32mfor\u001b[0m \u001b[0mx\u001b[0m\u001b[1;33m,\u001b[0m\u001b[0my\u001b[0m \u001b[1;32min\u001b[0m \u001b[1;33m(\u001b[0m\u001b[1;36m2\u001b[0m\u001b[1;33m,\u001b[0m\u001b[1;36m3\u001b[0m\u001b[1;33m)\u001b[0m\u001b[1;33m:\u001b[0m\u001b[1;33m\u001b[0m\u001b[1;33m\u001b[0m\u001b[0m\n\u001b[0m\u001b[0;32m      2\u001b[0m         \u001b[0mprint\u001b[0m\u001b[1;33m(\u001b[0m\u001b[0mx\u001b[0m\u001b[1;33m,\u001b[0m\u001b[0my\u001b[0m\u001b[1;33m)\u001b[0m\u001b[1;33m\u001b[0m\u001b[1;33m\u001b[0m\u001b[0m\n",
      "\u001b[1;31mTypeError\u001b[0m: cannot unpack non-iterable int object"
     ]
    }
   ],
   "source": [
    "for x,y in (2,3):\n",
    "        print(x,y)"
   ]
  },
  {
   "cell_type": "code",
   "execution_count": 33,
   "metadata": {},
   "outputs": [
    {
     "name": "stdout",
     "output_type": "stream",
     "text": [
      "(2, 'b', 3.2, 10, (4, 2))\n",
      "2\n",
      "<class 'int'>\n",
      "b\n",
      "<class 'str'>\n",
      "3.2\n",
      "<class 'float'>\n",
      "10\n",
      "<class 'int'>\n",
      "(4, 2)\n",
      "<class 'tuple'>\n"
     ]
    }
   ],
   "source": [
    "#Nested Tuples\n",
    "T1=(2,'b',3.2,10,(4,2))\n",
    "print(T1)\n",
    "\n",
    "for i in T1:\n",
    "    print(i)\n",
    "    print(type(i))\n",
    "    "
   ]
  },
  {
   "cell_type": "code",
   "execution_count": 34,
   "metadata": {},
   "outputs": [
    {
     "name": "stdout",
     "output_type": "stream",
     "text": [
      "<class 'list'> <class 'list'>\n",
      "<zip object at 0x0000021467B48888>\n",
      "<class 'zip'>\n",
      "(1, 'a')\n",
      "(2, 'b')\n",
      "(3, 'c')\n"
     ]
    }
   ],
   "source": [
    "#zip() function combines two list into a tuple object\n",
    "a=[1,2,3]\n",
    "b=['a','b','c']\n",
    "c=zip(a,b)\n",
    "print(type(a),type(b))\n",
    "print(c)\n",
    "print(type(c  `1   32w3for i in c:\n",
    "    print(i)"
   ]
  },
  {
   "cell_type": "code",
   "execution_count": null,
   "metadata": {},
   "outputs": [],
   "source": [
    "#WAP as case study of a zoo"
   ]
  },
  {
   "cell_type": "code",
   "execution_count": 13,
   "metadata": {},
   "outputs": [
    {
     "name": "stdout",
     "output_type": "stream",
     "text": [
      "[(1, 2), (2, 1), (3, 2), (4, 4), (5, 2)]\n",
      "[(2, 1), (1, 2), (2, 3), (4, 4), (2, 5)]\n"
     ]
    }
   ],
   "source": [
    "#WAP to get a list , sorted in increasing order by the last element of all the tuples from a given list of non-empty tuples\n",
    "us=[(2,5),(1,2),(4,4),(2,3),(2,1)]\n",
    "rs=[]\n",
    "for x,y in us:\n",
    "    rs.append((y,x))\n",
    "rs.sort();\n",
    "print(rs)\n",
    "us=[]\n",
    "for(x,y) in rs:\n",
    "    us.append((y,x))\n",
    "print(us)\n",
    "            \n",
    "            \n",
    "            \n",
    "    "
   ]
  },
  {
   "cell_type": "code",
   "execution_count": null,
   "metadata": {},
   "outputs": [],
   "source": []
  }
 ],
 "metadata": {
  "kernelspec": {
   "display_name": "Python 3",
   "language": "python",
   "name": "python3"
  },
  "language_info": {
   "codemirror_mode": {
    "name": "ipython",
    "version": 3
   },
   "file_extension": ".py",
   "mimetype": "text/x-python",
   "name": "python",
   "nbconvert_exporter": "python",
   "pygments_lexer": "ipython3",
   "version": "3.7.1"
  }
 },
 "nbformat": 4,
 "nbformat_minor": 2
}
